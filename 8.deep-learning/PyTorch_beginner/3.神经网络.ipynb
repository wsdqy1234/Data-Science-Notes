{
 "cells": [
  {
   "cell_type": "markdown",
   "source": [
    "## 前言\n",
    "\n",
    "原文翻译自：[Deep Learning with PyTorch: A 60 Minute Blitz](https://pytorch.org/tutorials/beginner/deep_learning_60min_blitz.html)\n",
    "\n",
    "翻译：[林不清](https://www.zhihu.com/people/lu-guo-92-42-88)\n",
    "\n",
    "整理：机器学习初学者公众号 ![gongzhong](images/gongzhong.jpg)\n",
    "\n",
    "## 目录\n",
    "\n",
    "[60分钟入门PyTorch（一）——Tensors](https://zhuanlan.zhihu.com/p/347676809)\n",
    "\n",
    "[60分钟入门PyTorch（二）——Autograd自动求导](https://zhuanlan.zhihu.com/p/347672836)\n",
    "\n",
    "[60分钟入门Pytorch（三）——神经网络](https://zhuanlan.zhihu.com/p/347678492)\n",
    "\n",
    "[60分钟入门PyTorch（四）——训练一个分类器](https://zhuanlan.zhihu.com/p/347681137)"
   ],
   "metadata": {}
  },
  {
   "cell_type": "code",
   "execution_count": 1,
   "source": [
    "%matplotlib inline"
   ],
   "outputs": [],
   "metadata": {}
  },
  {
   "cell_type": "markdown",
   "source": [
    "# 神经网络\n",
    "\n",
    "可以使用`torch.nn`包来构建神经网络.\n",
    "你已知道`autograd`包,`nn`包依赖`autograd`包来定义模型并求导.一个`nn.Module`包含各个层和一个`forward(input)`方法,该方法返回`output`."
   ],
   "metadata": {}
  },
  {
   "cell_type": "markdown",
   "source": [
    "例如,我们来看一下下面这个分类数字图像的网络(LeNet5).\r\n",
    "\r\n",
    "![neural](images/neural.png)\r\n",
    "\r\n",
    "他是一个简单的前馈神经网络,它接受一个输入,然后一层接着一层的输入,直到最后得到结果。\r\n",
    "\r\n",
    "神经网络的典型训练过程如下:\r\n",
    "\r\n",
    "* 定义神经网络模型,它有一些可学习的参数(或者权重);\r\n",
    "* 在数据集上迭代;\r\n",
    "* 通过神经网络处理输入;\r\n",
    "* 计算损失(输出结果和正确值的差距大小)\r\n",
    "* 将梯度反向传播会网络的参数;\r\n",
    "* 更新网络的参数,主要使用如下简单的更新原则:`weight = weight - learning_rate * gradient`"
   ],
   "metadata": {}
  },
  {
   "cell_type": "markdown",
   "source": [
    "## 定义网络\n",
    "\n",
    "我们先定义一个网络："
   ],
   "metadata": {}
  },
  {
   "cell_type": "code",
   "execution_count": 2,
   "source": [
    "import torch\r\n",
    "import torch.nn as nn\r\n",
    "import torch.nn.functional as F\r\n",
    "\r\n",
    "\r\n",
    "class Net(nn.Module):\r\n",
    "    \r\n",
    "    #定义Net的初始化函数，这个函数定义了该神经网络的基本结构\r\n",
    "    def __init__(self):\r\n",
    "        super(Net, self).__init__()             #复制并使用Net的父类的初始化方法，即先运行nn.Module的初始化函数\r\n",
    "        # kernel\r\n",
    "        self.conv1 = nn.Conv2d(1, 6, 5)         #定义conv1函数的是图像卷积函数：输入为图像（1个频道，即灰度图）,输出为6张特征图, 卷积核为5x5\r\n",
    "        self.conv2 = nn.Conv2d(6, 16, 5)        #定义conv2函数的是图像卷积函数：输入为6张特征图,输出为16张特征图, 卷积核为5x5\r\n",
    "        # an affine operation: y = Wx + b\r\n",
    "        self.fc1 = nn.Linear(16 * 5 * 5, 120)   #定义fc1全连接函数1为线性函数：y = Wx + b，并将16*5*5个节点连接到120个节点上。\r\n",
    "        self.fc2 = nn.Linear(120, 84)\r\n",
    "        self.fc3 = nn.Linear(84, 10)\r\n",
    "\r\n",
    "    #定义该神经网络的前向传播函数，该函数必须定义，一旦定义成功，反向传播函数也会自动生成（autograd）\r\n",
    "    def forward(self, x):\r\n",
    "        # Max pooling over a (2, 2) window\r\n",
    "        x = F.max_pool2d(F.relu(self.conv1(x)), (2, 2)) #输入x经过卷积conv1之后，经过激活函数ReLU，使用2x2的窗口进行最大池化Max pooling，然后更新到x。\r\n",
    "        # If the size is a square you can only specify a single number\r\n",
    "        x = F.max_pool2d(F.relu(self.conv2(x)), 2)      #输入x经过卷积conv2之后，经过激活函数ReLU，使用2x2的窗口进行最大池化Max pooling，然后更新到x。\r\n",
    "        x = x.view(-1, self.num_flat_features(x))       #view函数将张量x flatten成一维的向量形式，总特征数并不改变，为接下来的全连接作准备。\r\n",
    "        x = F.relu(self.fc1(x))                         #输入x经过全连接1，再经过ReLU激活函数，然后更新x\r\n",
    "        x = F.relu(self.fc2(x))                         #输入x经过全连接2，再经过ReLU激活函数，然后更新x\r\n",
    "        x = self.fc3(x)                                 #输入x经过全连接3，然后更新x\r\n",
    "        return x\r\n",
    "\r\n",
    "    #使用num_flat_features函数计算张量x的总特征量（把每个数字都看出是一个特征，即特征总量），比如x是4*2*2的张量，那么它的特征总量就是16。\r\n",
    "    def num_flat_features(self, x):\r\n",
    "        size = x.size()[1:]  # 这里为什么要使用[1:],是因为pytorch只接受批输入，也就是说一次性输入好几张图片，那么输入数据张量的维度自然上升到了4维。[1:]让我们把注意力放在后3维上面\r\n",
    "        num_features = 1\r\n",
    "        for s in size:\r\n",
    "            num_features *= s\r\n",
    "        return num_features\r\n",
    "\r\n",
    "#实例化一个自定义的Net\r\n",
    "net = Net()\r\n",
    "print(net)"
   ],
   "outputs": [
    {
     "output_type": "stream",
     "name": "stdout",
     "text": [
      "Net(\n",
      "  (conv1): Conv2d(1, 6, kernel_size=(3, 3), stride=(1, 1))\n",
      "  (conv2): Conv2d(6, 16, kernel_size=(3, 3), stride=(1, 1))\n",
      "  (fc1): Linear(in_features=576, out_features=120, bias=True)\n",
      "  (fc2): Linear(in_features=120, out_features=84, bias=True)\n",
      "  (fc3): Linear(in_features=84, out_features=10, bias=True)\n",
      ")\n"
     ]
    }
   ],
   "metadata": {}
  },
  {
   "cell_type": "markdown",
   "source": [
    "你只需定义`forward`函数,`backward`函数(计算梯度)在使用`autograd`时自动为你创建.你可以在`forward`函数中使用`Tensor`的任何操作。\r\n",
    "\r\n",
    "`net.parameters()`返回模型需要学习的参数"
   ],
   "metadata": {}
  },
  {
   "cell_type": "code",
   "execution_count": 3,
   "source": [
    "params = list(net.parameters())\r\n",
    "print(len(params))\r\n",
    "print(params[0].size())  # conv1's .weight"
   ],
   "outputs": [
    {
     "output_type": "stream",
     "name": "stdout",
     "text": [
      "10\n",
      "torch.Size([6, 1, 3, 3])\n"
     ]
    }
   ],
   "metadata": {}
  },
  {
   "cell_type": "markdown",
   "source": [
    "构造一个随机的$32\\times{32}$的输入，注意:这个网络(LeNet)期望的输入大小是$32\\times{32}$.如果使用MNIST数据集来训练这个网络,请把图片大小重新调整到32*32."
   ],
   "metadata": {}
  },
  {
   "cell_type": "code",
   "execution_count": 4,
   "source": [
    "input = torch.randn(1, 1, 32, 32)   #1张图片，1个通道（灰度），32*32的图片\r\n",
    "out = net(input)\r\n",
    "print(out)"
   ],
   "outputs": [
    {
     "output_type": "stream",
     "name": "stdout",
     "text": [
      "tensor([[ 0.0500,  0.0138, -0.0253,  0.0438, -0.0733, -0.0126, -0.0196, -0.0099,\n",
      "         -0.1129, -0.0231]], grad_fn=<AddmmBackward>)\n"
     ]
    }
   ],
   "metadata": {}
  },
  {
   "cell_type": "markdown",
   "source": [
    "将所有参数的梯度缓存清零,然后进行随机梯度的的反向传播."
   ],
   "metadata": {}
  },
  {
   "cell_type": "code",
   "execution_count": 5,
   "source": [
    "net.zero_grad()\r\n",
    "out.backward(torch.randn(1, 10))"
   ],
   "outputs": [],
   "metadata": {}
  },
  {
   "cell_type": "markdown",
   "source": [
    "<div class=\"alert alert-info\"><h4>注意</h4>\r\n",
    "``torch.nn``只支持mini-batch输入,整个torch.nn包都只支持mini-batch样本,而不支持单个样本\r\n",
    "例如,``nn.Conv2d``将接受一个4维的张量,每一维分别是\r\n",
    "$nSamples\\times nChannels\\times Height\\times Width$(样本数*通道数*高*宽).\r\n",
    "如果你有单个样本,只需使用`input.unsqueeze(0)`来添加其它的维数.\r\n",
    "在继续之前,我们回顾一下到目前为止见过的所有类.\r\n",
    "\r\n",
    "### 回顾\r\n",
    "\r\n",
    "* `torch.Tensor`-支持自动编程操作（如`backward()`）的多维数组。 同时保持梯度的张量。\r\n",
    "* `nn.Module`-神经网络模块.封装参数,移动到GPU上运行,导出,加载等\r\n",
    "* `nn.Parameter`-一种张量,当把它赋值给一个`Module`时,被自动的注册为参数.\r\n",
    "* `autograd.Function`-实现一个自动求导操作的前向和反向定义, 每个张量操作都会创建至少一个`Function`节点，该节点连接到创建张量并对其历史进行编码的函数。\r\n",
    "\r\n",
    "#### 现在,我们包含了如下内容:\r\n",
    "\r\n",
    "* 定义一个神经网络\r\n",
    "* 处理输入和调用`backward`\r\n",
    "\r\n",
    "\r\n",
    "#### 剩下的内容:\r\n",
    "\r\n",
    "* 计算损失值\r\n",
    "* 更新神经网络的权值\r\n",
    "\r\n",
    "### 损失函数\r\n",
    "一个损失函数接受一对(output, target)作为输入(output为网络的输出,target为实际值),计算一个值来估计网络的输出和目标值相差多少。\r\n",
    "\r\n",
    "在nn包中有几种不同的[损失函数](https://pytorch.org/docs/nn.html#loss-functions>).一个简单的损失函数是:`nn.MSELoss`,它计算输入和目标之间的均方误差。\r\n",
    "\r\n",
    "例如:\r\n",
    "</div>"
   ],
   "metadata": {}
  },
  {
   "cell_type": "code",
   "execution_count": 6,
   "source": [
    "output = net(input)\r\n",
    "target = torch.randn(10)  # a dummy target, for example\r\n",
    "target = target.view(1, -1)  # make it the same shape as output\r\n",
    "criterion = nn.MSELoss()\r\n",
    "\r\n",
    "loss = criterion(output, target)\r\n",
    "print(loss)"
   ],
   "outputs": [
    {
     "output_type": "stream",
     "name": "stdout",
     "text": [
      "tensor(0.5928, grad_fn=<MseLossBackward>)\n"
     ]
    }
   ],
   "metadata": {}
  },
  {
   "cell_type": "markdown",
   "source": [
    "现在,你反向跟踪``loss``,使用它的``.grad_fn``属性,你会看到向下面这样的一个计算图:\n",
    " input -> conv2d -> relu -> maxpool2d -> conv2d -> relu -> maxpool2d\n",
    "          -> view -> linear -> relu -> linear -> relu -> linear\n",
    "          -> MSELoss\n",
    "          -> loss\n",
    "          \n",
    "所以, 当你调用``loss.backward()``,整个图被区分为损失以及图中所有具有``requires_grad = True``的张量，并且其``.grad`` 张量的梯度累积。\n",
    "\n",
    "为了说明,我们反向跟踪几步:"
   ],
   "metadata": {}
  },
  {
   "cell_type": "code",
   "execution_count": 7,
   "source": [
    "print(loss.grad_fn)  # MSELoss\r\n",
    "print(loss.grad_fn.next_functions[0][0])  # Linear\r\n",
    "print(loss.grad_fn.next_functions[0][0].next_functions[0][0])  # ReLU"
   ],
   "outputs": [
    {
     "output_type": "stream",
     "name": "stdout",
     "text": [
      "<MseLossBackward object at 0x000001BB483A13C8>\n",
      "<AddmmBackward object at 0x000001BB483A1400>\n",
      "<AccumulateGrad object at 0x000001BB483A13C8>\n"
     ]
    }
   ],
   "metadata": {}
  },
  {
   "cell_type": "markdown",
   "source": [
    "### 反向传播\n",
    "为了反向传播误差,我们所需做的是调用`loss.backward()`.你需要清除已存在的梯度,否则梯度将被累加到已存在的梯度。\n",
    "\n",
    "现在,我们将调用`loss.backward()`,并查看conv1层的偏置项在反向传播前后的梯度。"
   ],
   "metadata": {}
  },
  {
   "cell_type": "code",
   "execution_count": 8,
   "source": [
    "net.zero_grad()     # zeroes the gradient buffers of all parameters\r\n",
    "\r\n",
    "print('conv1.bias.grad before backward')\r\n",
    "print(net.conv1.bias.grad)\r\n",
    "\r\n",
    "loss.backward()\r\n",
    "\r\n",
    "print('conv1.bias.grad after backward')\r\n",
    "print(net.conv1.bias.grad)"
   ],
   "outputs": [
    {
     "output_type": "stream",
     "name": "stdout",
     "text": [
      "conv1.bias.grad before backward\n",
      "tensor([0., 0., 0., 0., 0., 0.])\n",
      "conv1.bias.grad after backward\n",
      "tensor([ 0.0130, -0.0024, -0.0142,  0.0139, -0.0102, -0.0126])\n"
     ]
    }
   ],
   "metadata": {}
  },
  {
   "cell_type": "markdown",
   "source": [
    "现在，我们知道了该如何使用损失函数\n",
    "#### 稍后阅读:\n",
    "\n",
    "神经网络包包含了各种用来构成深度神经网络构建块的模块和损失函数,一份完整的文档查看[这里](https://pytorch.org/docs/nn)\n",
    "\n",
    "#### 唯一剩下的内容:\n",
    "* 更新网络的权重"
   ],
   "metadata": {}
  },
  {
   "cell_type": "markdown",
   "source": [
    "### 更新权重\n",
    "实践中最简单的更新规则是随机梯度下降(SGD)．\n",
    "\n",
    "`weight=weight−learning_rate∗gradient`\n",
    "\n",
    "我们可以使用简单的Python代码实现这个规则。"
   ],
   "metadata": {}
  },
  {
   "cell_type": "code",
   "execution_count": 9,
   "source": [
    "learning_rate = 0.01\r\n",
    "for f in net.parameters():\r\n",
    "    f.data.sub_(f.grad.data * learning_rate)"
   ],
   "outputs": [],
   "metadata": {}
  },
  {
   "cell_type": "markdown",
   "source": [
    "然而,当你使用神经网络是,你想要使用各种不同的更新规则,比如``SGD``,``Nesterov-SGD``,``Adam``, ``RMSPROP``等.为了能做到这一点,我们构建了一个包``torch.optim``实现了所有的这些规则.使用他们非常简单："
   ],
   "metadata": {}
  },
  {
   "cell_type": "code",
   "execution_count": 10,
   "source": [
    "import torch.optim as optim\r\n",
    "\r\n",
    "# create your optimizer\r\n",
    "optimizer = optim.SGD(net.parameters(), lr=0.01)\r\n",
    "\r\n",
    "# in your training loop:\r\n",
    "optimizer.zero_grad()   # zero the gradient buffers\r\n",
    "output = net(input)\r\n",
    "loss = criterion(output, target)\r\n",
    "loss.backward()\r\n",
    "optimizer.step()    # Does the update"
   ],
   "outputs": [],
   "metadata": {}
  },
  {
   "cell_type": "markdown",
   "source": [
    "**注意**\n",
    "\n",
    "观察如何使用`optimizer.zero_grad()`手动将梯度缓冲区设置为零。 这是因为梯度是反向传播部分中的说明那样是累积的。"
   ],
   "metadata": {}
  }
 ],
 "metadata": {
  "kernelspec": {
   "display_name": "Python 3",
   "language": "python",
   "name": "python3"
  },
  "language_info": {
   "codemirror_mode": {
    "name": "ipython",
    "version": 3
   },
   "file_extension": ".py",
   "mimetype": "text/x-python",
   "name": "python",
   "nbconvert_exporter": "python",
   "pygments_lexer": "ipython3",
   "version": "3.7.6"
  }
 },
 "nbformat": 4,
 "nbformat_minor": 2
}